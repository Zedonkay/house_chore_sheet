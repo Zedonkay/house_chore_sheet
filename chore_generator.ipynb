{
 "cells": [
  {
   "cell_type": "markdown",
   "metadata": {},
   "source": [
    "Import things"
   ]
  },
  {
   "cell_type": "code",
   "execution_count": null,
   "metadata": {},
   "outputs": [],
   "source": [
    "import pandas\n",
    "import matplotlib\n",
    "import datetime"
   ]
  },
  {
   "cell_type": "markdown",
   "metadata": {},
   "source": [
    "Set up variables"
   ]
  },
  {
   "cell_type": "code",
   "execution_count": 37,
   "metadata": {},
   "outputs": [],
   "source": [
    "upper_floor_people = [\"Ishayu\",\"Jackson\"]\n",
    "lower_floor_people = [\"Dan\",\"Aidan\",\"Hamza\"]\n",
    "first_floor_people = [\"Ishayu\",\"Dan\",\"Aidan\",\"Hamza\"]\n",
    "today = datetime.date.today()\n",
    "sundays = []\n",
    "chores = []"
   ]
  },
  {
   "cell_type": "markdown",
   "metadata": {},
   "source": [
    "Create list of sundays"
   ]
  },
  {
   "cell_type": "code",
   "execution_count": 38,
   "metadata": {},
   "outputs": [
    {
     "name": "stdout",
     "output_type": "stream",
     "text": [
      "[datetime.date(2024, 12, 8), datetime.date(2024, 12, 15), datetime.date(2024, 12, 22), datetime.date(2024, 12, 29), datetime.date(2025, 1, 5), datetime.date(2025, 1, 12), datetime.date(2025, 1, 19), datetime.date(2025, 1, 26), datetime.date(2025, 2, 2), datetime.date(2025, 2, 9), datetime.date(2025, 2, 16), datetime.date(2025, 2, 23), datetime.date(2025, 3, 2), datetime.date(2025, 3, 9), datetime.date(2025, 3, 16), datetime.date(2025, 3, 23), datetime.date(2025, 3, 30), datetime.date(2025, 4, 6), datetime.date(2025, 4, 13), datetime.date(2025, 4, 20), datetime.date(2025, 4, 27), datetime.date(2025, 5, 4)]\n"
     ]
    }
   ],
   "source": [
    "while today <= datetime.date(2025, 5, 6):\n",
    "    if today.weekday() == 6:\n",
    "        sundays.append(today)\n",
    "    today += datetime.timedelta(days=1)\n",
    "print(sundays)"
   ]
  },
  {
   "cell_type": "markdown",
   "metadata": {},
   "source": [
    "populate chores with correct information"
   ]
  },
  {
   "cell_type": "code",
   "execution_count": 39,
   "metadata": {},
   "outputs": [],
   "source": [
    "for i in range(len(sundays)):\n",
    "    if i % 2:\n",
    "        chores.append([sundays[i], \"Clean First floor\", first_floor_people[i % 4]])\n",
    "    else:\n",
    "        chores.append([sundays[i], \"Clean Upper Floors\", f\"{upper_floor_people[(i // 2) % 2]};{lower_floor_people[(i // 2) % 3]}\"])"
   ]
  },
  {
   "cell_type": "markdown",
   "metadata": {},
   "source": [
    "convert to dataframe and save"
   ]
  },
  {
   "cell_type": "code",
   "execution_count": 40,
   "metadata": {},
   "outputs": [],
   "source": [
    "df = pandas.DataFrame(chores, columns=[\"Date\",\"Chore\",\"Person\"])\n",
    "df.to_csv(\"chores.csv\", index=False)"
   ]
  }
 ],
 "metadata": {
  "kernelspec": {
   "display_name": ".venv",
   "language": "python",
   "name": "python3"
  },
  "language_info": {
   "codemirror_mode": {
    "name": "ipython",
    "version": 3
   },
   "file_extension": ".py",
   "mimetype": "text/x-python",
   "name": "python",
   "nbconvert_exporter": "python",
   "pygments_lexer": "ipython3",
   "version": "3.12.4"
  }
 },
 "nbformat": 4,
 "nbformat_minor": 2
}
